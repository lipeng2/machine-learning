{
 "cells": [
  {
   "cell_type": "code",
   "execution_count": 1,
   "metadata": {},
   "outputs": [],
   "source": [
    "import pandas as pd\n",
    "import numpy as np"
   ]
  },
  {
   "cell_type": "code",
   "execution_count": 2,
   "metadata": {},
   "outputs": [],
   "source": [
    "train = pd.read_csv('train.csv')\n",
    "test = pd.read_csv('test.csv')\n",
    "sub = pd.read_csv('sample_submission.csv')"
   ]
  },
  {
   "cell_type": "code",
   "execution_count": 3,
   "metadata": {},
   "outputs": [
    {
     "data": {
      "text/html": [
       "<div>\n",
       "<style scoped>\n",
       "    .dataframe tbody tr th:only-of-type {\n",
       "        vertical-align: middle;\n",
       "    }\n",
       "\n",
       "    .dataframe tbody tr th {\n",
       "        vertical-align: top;\n",
       "    }\n",
       "\n",
       "    .dataframe thead th {\n",
       "        text-align: right;\n",
       "    }\n",
       "</style>\n",
       "<table border=\"1\" class=\"dataframe\">\n",
       "  <thead>\n",
       "    <tr style=\"text-align: right;\">\n",
       "      <th></th>\n",
       "      <th>Lunation Number</th>\n",
       "      <th>Date of occurrence</th>\n",
       "      <th>Day of Month</th>\n",
       "      <th>Time of occurrence</th>\n",
       "      <th>Time Difference</th>\n",
       "      <th>Angle of Rays</th>\n",
       "      <th>Eclipse Type 1</th>\n",
       "      <th>Gamma</th>\n",
       "      <th>Magnitude 1</th>\n",
       "      <th>Latitude</th>\n",
       "      <th>Longitude</th>\n",
       "      <th>Eclipse Duration (m)</th>\n",
       "    </tr>\n",
       "  </thead>\n",
       "  <tbody>\n",
       "    <tr>\n",
       "      <th>0</th>\n",
       "      <td>LN-49456</td>\n",
       "      <td>2023-06</td>\n",
       "      <td>26</td>\n",
       "      <td>14:13:28</td>\n",
       "      <td>46437</td>\n",
       "      <td>17</td>\n",
       "      <td>N</td>\n",
       "      <td>-1.0981</td>\n",
       "      <td>0.8791</td>\n",
       "      <td>24S</td>\n",
       "      <td>22W</td>\n",
       "      <td>278.53620</td>\n",
       "    </tr>\n",
       "    <tr>\n",
       "      <th>1</th>\n",
       "      <td>LN-49451</td>\n",
       "      <td>2022-11</td>\n",
       "      <td>21</td>\n",
       "      <td>20:23:49</td>\n",
       "      <td>46427</td>\n",
       "      <td>-16</td>\n",
       "      <td>N</td>\n",
       "      <td>-1.1155</td>\n",
       "      <td>0.8143</td>\n",
       "      <td>15N</td>\n",
       "      <td>98W</td>\n",
       "      <td>241.84410</td>\n",
       "    </tr>\n",
       "    <tr>\n",
       "      <th>2</th>\n",
       "      <td>LN-49445</td>\n",
       "      <td>2020-05</td>\n",
       "      <td>17</td>\n",
       "      <td>05:47:36</td>\n",
       "      <td>46416</td>\n",
       "      <td>-11</td>\n",
       "      <td>P</td>\n",
       "      <td>0.8988</td>\n",
       "      <td>1.2105</td>\n",
       "      <td>13S</td>\n",
       "      <td>89E</td>\n",
       "      <td>291.90705</td>\n",
       "    </tr>\n",
       "    <tr>\n",
       "      <th>3</th>\n",
       "      <td>LN-49439</td>\n",
       "      <td>2025-11</td>\n",
       "      <td>11</td>\n",
       "      <td>05:15:58</td>\n",
       "      <td>46404</td>\n",
       "      <td>-6</td>\n",
       "      <td>P</td>\n",
       "      <td>-0.4644</td>\n",
       "      <td>2.0382</td>\n",
       "      <td>12N</td>\n",
       "      <td>113E</td>\n",
       "      <td>355.85910</td>\n",
       "    </tr>\n",
       "    <tr>\n",
       "      <th>4</th>\n",
       "      <td>LN-49433</td>\n",
       "      <td>2024-05</td>\n",
       "      <td>6</td>\n",
       "      <td>18:57:01</td>\n",
       "      <td>46392</td>\n",
       "      <td>-1</td>\n",
       "      <td>T+</td>\n",
       "      <td>0.1003</td>\n",
       "      <td>2.6513</td>\n",
       "      <td>11S</td>\n",
       "      <td>92W</td>\n",
       "      <td>334.50720</td>\n",
       "    </tr>\n",
       "  </tbody>\n",
       "</table>\n",
       "</div>"
      ],
      "text/plain": [
       "  Lunation Number Date of occurrence  Day of Month Time of occurrence  \\\n",
       "0        LN-49456            2023-06            26           14:13:28   \n",
       "1        LN-49451            2022-11            21           20:23:49   \n",
       "2        LN-49445            2020-05            17           05:47:36   \n",
       "3        LN-49439            2025-11            11           05:15:58   \n",
       "4        LN-49433            2024-05             6           18:57:01   \n",
       "\n",
       "   Time Difference  Angle of Rays Eclipse Type 1   Gamma  Magnitude 1  \\\n",
       "0            46437             17              N -1.0981       0.8791   \n",
       "1            46427            -16              N -1.1155       0.8143   \n",
       "2            46416            -11              P  0.8988       1.2105   \n",
       "3            46404             -6              P -0.4644       2.0382   \n",
       "4            46392             -1             T+  0.1003       2.6513   \n",
       "\n",
       "  Latitude Longitude  Eclipse Duration (m)  \n",
       "0      24S       22W             278.53620  \n",
       "1      15N       98W             241.84410  \n",
       "2      13S       89E             291.90705  \n",
       "3      12N      113E             355.85910  \n",
       "4      11S       92W             334.50720  "
      ]
     },
     "execution_count": 3,
     "metadata": {},
     "output_type": "execute_result"
    }
   ],
   "source": [
    "train.head()"
   ]
  },
  {
   "cell_type": "code",
   "execution_count": 4,
   "metadata": {},
   "outputs": [
    {
     "data": {
      "text/html": [
       "<div>\n",
       "<style scoped>\n",
       "    .dataframe tbody tr th:only-of-type {\n",
       "        vertical-align: middle;\n",
       "    }\n",
       "\n",
       "    .dataframe tbody tr th {\n",
       "        vertical-align: top;\n",
       "    }\n",
       "\n",
       "    .dataframe thead th {\n",
       "        text-align: right;\n",
       "    }\n",
       "</style>\n",
       "<table border=\"1\" class=\"dataframe\">\n",
       "  <thead>\n",
       "    <tr style=\"text-align: right;\">\n",
       "      <th></th>\n",
       "      <th>ID</th>\n",
       "      <th>Lunation Number</th>\n",
       "      <th>Date of occurrence</th>\n",
       "      <th>Day of Month</th>\n",
       "      <th>Time of occurrence</th>\n",
       "      <th>Time Difference</th>\n",
       "      <th>Angle of Rays</th>\n",
       "      <th>Eclipse Type 1</th>\n",
       "      <th>Gamma</th>\n",
       "      <th>Magnitude 1</th>\n",
       "      <th>Latitude</th>\n",
       "      <th>Longitude</th>\n",
       "    </tr>\n",
       "  </thead>\n",
       "  <tbody>\n",
       "    <tr>\n",
       "      <th>0</th>\n",
       "      <td>1</td>\n",
       "      <td>LN-187710</td>\n",
       "      <td>2024-09</td>\n",
       "      <td>10</td>\n",
       "      <td>19:22:54</td>\n",
       "      <td>25953</td>\n",
       "      <td>47</td>\n",
       "      <td>A</td>\n",
       "      <td>0.4175</td>\n",
       "      <td>0.9677</td>\n",
       "      <td>32.5N</td>\n",
       "      <td>5.5E</td>\n",
       "    </tr>\n",
       "    <tr>\n",
       "      <th>1</th>\n",
       "      <td>2</td>\n",
       "      <td>LN-187685</td>\n",
       "      <td>2021-02</td>\n",
       "      <td>6</td>\n",
       "      <td>14:13:01</td>\n",
       "      <td>25946</td>\n",
       "      <td>14</td>\n",
       "      <td>Pe</td>\n",
       "      <td>1.5329</td>\n",
       "      <td>0.0444</td>\n",
       "      <td>69.2N</td>\n",
       "      <td>50.9E</td>\n",
       "    </tr>\n",
       "    <tr>\n",
       "      <th>2</th>\n",
       "      <td>3</td>\n",
       "      <td>LN-187680</td>\n",
       "      <td>2023-03</td>\n",
       "      <td>8</td>\n",
       "      <td>03:29:08</td>\n",
       "      <td>25944</td>\n",
       "      <td>52</td>\n",
       "      <td>P</td>\n",
       "      <td>-1.2696</td>\n",
       "      <td>0.5008</td>\n",
       "      <td>71.1S</td>\n",
       "      <td>3.2W</td>\n",
       "    </tr>\n",
       "    <tr>\n",
       "      <th>3</th>\n",
       "      <td>4</td>\n",
       "      <td>LN-187655</td>\n",
       "      <td>2023-08</td>\n",
       "      <td>1</td>\n",
       "      <td>20:01:21</td>\n",
       "      <td>25937</td>\n",
       "      <td>19</td>\n",
       "      <td>Pe</td>\n",
       "      <td>-1.5079</td>\n",
       "      <td>0.0469</td>\n",
       "      <td>68.2S</td>\n",
       "      <td>29.4W</td>\n",
       "    </tr>\n",
       "    <tr>\n",
       "      <th>4</th>\n",
       "      <td>5</td>\n",
       "      <td>LN-187650</td>\n",
       "      <td>2023-08</td>\n",
       "      <td>31</td>\n",
       "      <td>05:18:35</td>\n",
       "      <td>25936</td>\n",
       "      <td>57</td>\n",
       "      <td>P</td>\n",
       "      <td>1.1064</td>\n",
       "      <td>0.8027</td>\n",
       "      <td>70.7N</td>\n",
       "      <td>21.4W</td>\n",
       "    </tr>\n",
       "  </tbody>\n",
       "</table>\n",
       "</div>"
      ],
      "text/plain": [
       "   ID Lunation Number Date of occurrence  Day of Month Time of occurrence  \\\n",
       "0   1       LN-187710            2024-09            10           19:22:54   \n",
       "1   2       LN-187685            2021-02             6           14:13:01   \n",
       "2   3       LN-187680            2023-03             8           03:29:08   \n",
       "3   4       LN-187655            2023-08             1           20:01:21   \n",
       "4   5       LN-187650            2023-08            31           05:18:35   \n",
       "\n",
       "   Time Difference  Angle of Rays Eclipse Type 1   Gamma  Magnitude 1  \\\n",
       "0            25953             47              A  0.4175       0.9677   \n",
       "1            25946             14             Pe  1.5329       0.0444   \n",
       "2            25944             52              P -1.2696       0.5008   \n",
       "3            25937             19             Pe -1.5079       0.0469   \n",
       "4            25936             57              P  1.1064       0.8027   \n",
       "\n",
       "  Latitude Longitude  \n",
       "0    32.5N      5.5E  \n",
       "1    69.2N     50.9E  \n",
       "2    71.1S      3.2W  \n",
       "3    68.2S     29.4W  \n",
       "4    70.7N     21.4W  "
      ]
     },
     "execution_count": 4,
     "metadata": {},
     "output_type": "execute_result"
    }
   ],
   "source": [
    "test.head()"
   ]
  },
  {
   "cell_type": "code",
   "execution_count": 5,
   "metadata": {},
   "outputs": [
    {
     "data": {
      "text/html": [
       "<div>\n",
       "<style scoped>\n",
       "    .dataframe tbody tr th:only-of-type {\n",
       "        vertical-align: middle;\n",
       "    }\n",
       "\n",
       "    .dataframe tbody tr th {\n",
       "        vertical-align: top;\n",
       "    }\n",
       "\n",
       "    .dataframe thead th {\n",
       "        text-align: right;\n",
       "    }\n",
       "</style>\n",
       "<table border=\"1\" class=\"dataframe\">\n",
       "  <thead>\n",
       "    <tr style=\"text-align: right;\">\n",
       "      <th></th>\n",
       "      <th>ID</th>\n",
       "      <th>Eclipse Duration (m)</th>\n",
       "    </tr>\n",
       "  </thead>\n",
       "  <tbody>\n",
       "    <tr>\n",
       "      <th>0</th>\n",
       "      <td>1</td>\n",
       "      <td>0</td>\n",
       "    </tr>\n",
       "    <tr>\n",
       "      <th>1</th>\n",
       "      <td>2</td>\n",
       "      <td>0</td>\n",
       "    </tr>\n",
       "    <tr>\n",
       "      <th>2</th>\n",
       "      <td>3</td>\n",
       "      <td>0</td>\n",
       "    </tr>\n",
       "    <tr>\n",
       "      <th>3</th>\n",
       "      <td>4</td>\n",
       "      <td>0</td>\n",
       "    </tr>\n",
       "    <tr>\n",
       "      <th>4</th>\n",
       "      <td>5</td>\n",
       "      <td>0</td>\n",
       "    </tr>\n",
       "  </tbody>\n",
       "</table>\n",
       "</div>"
      ],
      "text/plain": [
       "   ID  Eclipse Duration (m)\n",
       "0   1                     0\n",
       "1   2                     0\n",
       "2   3                     0\n",
       "3   4                     0\n",
       "4   5                     0"
      ]
     },
     "execution_count": 5,
     "metadata": {},
     "output_type": "execute_result"
    }
   ],
   "source": [
    "sub.head()"
   ]
  },
  {
   "cell_type": "code",
   "execution_count": 6,
   "metadata": {},
   "outputs": [],
   "source": [
    "import seaborn as sns"
   ]
  },
  {
   "cell_type": "code",
   "execution_count": 7,
   "metadata": {},
   "outputs": [
    {
     "data": {
      "text/plain": [
       "<matplotlib.axes._subplots.AxesSubplot at 0x207ee7d1a20>"
      ]
     },
     "execution_count": 7,
     "metadata": {},
     "output_type": "execute_result"
    },
    {
     "data": {
      "image/png": "[encoded data removed]",
      "text/plain": [
       "<Figure size 432x288 with 1 Axes>"
      ]
     },
     "metadata": {
      "needs_background": "light"
     },
     "output_type": "display_data"
    }
   ],
   "source": [
    "tar = 'Eclipse Duration (m)'\n",
    "sns.distplot(train[tar])"
   ]
  },
  {
   "cell_type": "code",
   "execution_count": 8,
   "metadata": {},
   "outputs": [
    {
     "data": {
      "text/plain": [
       "count    14377.000000\n",
       "mean       264.878573\n",
       "std         95.007394\n",
       "min         -0.075000\n",
       "25%        203.389950\n",
       "50%        295.016550\n",
       "75%        337.616700\n",
       "max        393.276750\n",
       "Name: Eclipse Duration (m), dtype: float64"
      ]
     },
     "execution_count": 8,
     "metadata": {},
     "output_type": "execute_result"
    }
   ],
   "source": [
    "train['Eclipse Duration (m)'].describe()"
   ]
  },
  {
   "cell_type": "code",
   "execution_count": 9,
   "metadata": {},
   "outputs": [
    {
     "data": {
      "text/plain": [
       "<matplotlib.axes._subplots.AxesSubplot at 0x207eeb479e8>"
      ]
     },
     "execution_count": 9,
     "metadata": {},
     "output_type": "execute_result"
    },
    {
     "data": {
      "image/png": "[encoded data removed]",
      "text/plain": [
       "<Figure size 432x288 with 1 Axes>"
      ]
     },
     "metadata": {
      "needs_background": "light"
     },
     "output_type": "display_data"
    }
   ],
   "source": [
    "train['Eclipse Type 1'].value_counts().plot(kind='barh')"
   ]
  },
  {
   "cell_type": "code",
   "execution_count": 10,
   "metadata": {},
   "outputs": [
    {
     "data": {
      "text/plain": [
       "<matplotlib.axes._subplots.AxesSubplot at 0x207eeb19518>"
      ]
     },
     "execution_count": 10,
     "metadata": {},
     "output_type": "execute_result"
    },
    {
     "data": {
      "image/png": "[encoded data removed]",
      "text/plain": [
       "<Figure size 432x288 with 1 Axes>"
      ]
     },
     "metadata": {
      "needs_background": "light"
     },
     "output_type": "display_data"
    }
   ],
   "source": [
    "test['Eclipse Type 1'].value_counts().plot(kind='barh')"
   ]
  },
  {
   "cell_type": "code",
   "execution_count": 11,
   "metadata": {},
   "outputs": [
    {
     "data": {
      "text/plain": [
       "False"
      ]
     },
     "execution_count": 11,
     "metadata": {},
     "output_type": "execute_result"
    }
   ],
   "source": [
    "test['Eclipse Type 1']. nunique() == train['Eclipse Type 1'].nunique()"
   ]
  },
  {
   "cell_type": "code",
   "execution_count": 12,
   "metadata": {},
   "outputs": [
    {
     "data": {
      "text/plain": [
       "23"
      ]
     },
     "execution_count": 12,
     "metadata": {},
     "output_type": "execute_result"
    }
   ],
   "source": [
    "train['Eclipse Type 1'].nunique()"
   ]
  },
  {
   "cell_type": "code",
   "execution_count": 13,
   "metadata": {},
   "outputs": [
    {
     "data": {
      "text/plain": [
       "19"
      ]
     },
     "execution_count": 13,
     "metadata": {},
     "output_type": "execute_result"
    }
   ],
   "source": [
    "test['Eclipse Type 1']. nunique()"
   ]
  },
  {
   "cell_type": "code",
   "execution_count": 14,
   "metadata": {},
   "outputs": [
    {
     "data": {
      "text/plain": [
       "Lunation Number         0\n",
       "Date of occurrence      0\n",
       "Day of Month            0\n",
       "Time of occurrence      0\n",
       "Time Difference         0\n",
       "Angle of Rays           0\n",
       "Eclipse Type 1          0\n",
       "Gamma                   0\n",
       "Magnitude 1             0\n",
       "Latitude                0\n",
       "Longitude               0\n",
       "Eclipse Duration (m)    0\n",
       "dtype: int64"
      ]
     },
     "execution_count": 14,
     "metadata": {},
     "output_type": "execute_result"
    }
   ],
   "source": [
    "train.isnull().sum()"
   ]
  },
  {
   "cell_type": "code",
   "execution_count": 15,
   "metadata": {},
   "outputs": [],
   "source": [
    "t = train.copy()"
   ]
  },
  {
   "cell_type": "code",
   "execution_count": 16,
   "metadata": {},
   "outputs": [],
   "source": [
    "from sklearn.preprocessing import LabelEncoder"
   ]
  },
  {
   "cell_type": "code",
   "execution_count": 17,
   "metadata": {},
   "outputs": [],
   "source": [
    "def preproc(df):\n",
    "    t = df.copy()\n",
    "    t['S'] = t['Longitude'].str.contains('W')\n",
    "    t['W'] = t['Latitude'].str.contains('S')\n",
    "    t['lon'] = t['Longitude'].apply(lambda x: float(x[:-1]))\n",
    "    t['lan'] = t['Latitude'].apply(lambda x: float(x[:-1]))\n",
    "    t.drop(['Longitude', 'Latitude', 'Time of occurrence', 'Date of occurrence', 'Lunation Number'], axis=1, inplace=True)\n",
    "    print(t.info())\n",
    "    return t"
   ]
  },
  {
   "cell_type": "code",
   "execution_count": 18,
   "metadata": {},
   "outputs": [
    {
     "name": "stdout",
     "output_type": "stream",
     "text": [
      "<class 'pandas.core.frame.DataFrame'>\n",
      "RangeIndex: 14377 entries, 0 to 14376\n",
      "Data columns (total 11 columns):\n",
      "Day of Month            14377 non-null int64\n",
      "Time Difference         14377 non-null int64\n",
      "Angle of Rays           14377 non-null int64\n",
      "Eclipse Type 1          14377 non-null object\n",
      "Gamma                   14377 non-null float64\n",
      "Magnitude 1             14377 non-null float64\n",
      "Eclipse Duration (m)    14377 non-null float64\n",
      "S                       14377 non-null bool\n",
      "W                       14377 non-null bool\n",
      "lon                     14377 non-null float64\n",
      "lan                     14377 non-null float64\n",
      "dtypes: bool(2), float64(5), int64(3), object(1)\n",
      "memory usage: 1.0+ MB\n",
      "None\n",
      "<class 'pandas.core.frame.DataFrame'>\n",
      "RangeIndex: 9585 entries, 0 to 9584\n",
      "Data columns (total 11 columns):\n",
      "ID                 9585 non-null int64\n",
      "Day of Month       9585 non-null int64\n",
      "Time Difference    9585 non-null int64\n",
      "Angle of Rays      9585 non-null int64\n",
      "Eclipse Type 1     9585 non-null object\n",
      "Gamma              9585 non-null float64\n",
      "Magnitude 1        9585 non-null float64\n",
      "S                  9585 non-null bool\n",
      "W                  9585 non-null bool\n",
      "lon                9585 non-null float64\n",
      "lan                9585 non-null float64\n",
      "dtypes: bool(2), float64(4), int64(4), object(1)\n",
      "memory usage: 692.7+ KB\n",
      "None\n"
     ]
    }
   ],
   "source": [
    "trn, tes = preproc(train), preproc(test)"
   ]
  },
  {
   "cell_type": "code",
   "execution_count": 19,
   "metadata": {},
   "outputs": [],
   "source": [
    "le = LabelEncoder()\n",
    "le.fit(trn['Eclipse Type 1'])\n",
    "trn['Eclipse Type 1'] = le.transform(trn['Eclipse Type 1'])\n",
    "tes['Eclipse Type 1'] = le.transform(tes['Eclipse Type 1'])"
   ]
  },
  {
   "cell_type": "code",
   "execution_count": 20,
   "metadata": {},
   "outputs": [],
   "source": [
    "tes.drop(['ID'], axis=1, inplace=True)"
   ]
  },
  {
   "cell_type": "code",
   "execution_count": 21,
   "metadata": {},
   "outputs": [],
   "source": [
    "X = trn.drop([tar], axis=1)\n",
    "y = trn[tar]"
   ]
  },
  {
   "cell_type": "code",
   "execution_count": 22,
   "metadata": {},
   "outputs": [],
   "source": [
    "def cv_rmse(model, X=X):\n",
    "    rmse = np.sqrt(-cross_val_score(model, X, y,\n",
    "                                    scoring=\"neg_mean_squared_error\",\n",
    "                                    cv=kfolds))\n",
    "    return (rmse)"
   ]
  },
  {
   "cell_type": "code",
   "execution_count": 23,
   "metadata": {},
   "outputs": [],
   "source": [
    "from sklearn.preprocessing import LabelEncoder, MinMaxScaler, RobustScaler\n",
    "from sklearn.pipeline import make_pipeline\n",
    "from sklearn.model_selection import cross_val_score, KFold\n",
    "from lightgbm.sklearn import LGBMRegressor"
   ]
  },
  {
   "cell_type": "code",
   "execution_count": 24,
   "metadata": {},
   "outputs": [],
   "source": [
    "lightgbm = LGBMRegressor(objective='regression', \n",
    "                                       num_leaves=4,\n",
    "                                       learning_rate=0.01, \n",
    "                                       n_estimators=5000,\n",
    "                                       max_bin=200, \n",
    "                                       bagging_fraction=0.75,\n",
    "                                       bagging_freq=5, \n",
    "                                       bagging_seed=7,\n",
    "                                       feature_fraction=0.2,\n",
    "                                       feature_fraction_seed=7,\n",
    "                                       verbose=-1,\n",
    "                                       #min_data_in_leaf=2,\n",
    "                                       #min_sum_hessian_in_leaf=11\n",
    "                                       )"
   ]
  },
  {
   "cell_type": "code",
   "execution_count": 25,
   "metadata": {},
   "outputs": [],
   "source": [
    "kfolds = KFold(n_splits=10, shuffle=True, random_state=42)\n",
    "\n",
    "score = cv_rmse(lightgbm)"
   ]
  },
  {
   "cell_type": "code",
   "execution_count": 26,
   "metadata": {},
   "outputs": [
    {
     "name": "stdout",
     "output_type": "stream",
     "text": [
      "46.156216601513805 2.828761695457047\n"
     ]
    }
   ],
   "source": [
    "print(score.mean(), score.std())"
   ]
  },
  {
   "cell_type": "code",
   "execution_count": 27,
   "metadata": {},
   "outputs": [
    {
     "data": {
      "text/plain": [
       "LGBMRegressor(bagging_fraction=0.75, bagging_freq=5, bagging_seed=7,\n",
       "       boosting_type='gbdt', class_weight=None, colsample_bytree=1.0,\n",
       "       feature_fraction=0.2, feature_fraction_seed=7,\n",
       "       importance_type='split', learning_rate=0.01, max_bin=200,\n",
       "       max_depth=-1, min_child_samples=20, min_child_weight=0.001,\n",
       "       min_split_gain=0.0, n_estimators=5000, n_jobs=-1, num_leaves=4,\n",
       "       objective='regression', random_state=None, reg_alpha=0.0,\n",
       "       reg_lambda=0.0, silent=True, subsample=1.0,\n",
       "       subsample_for_bin=200000, subsample_freq=0, verbose=-1)"
      ]
     },
     "execution_count": 27,
     "metadata": {},
     "output_type": "execute_result"
    }
   ],
   "source": [
    "lightgbm.fit(X, y)"
   ]
  },
  {
   "cell_type": "code",
   "execution_count": 28,
   "metadata": {},
   "outputs": [],
   "source": [
    "preds = lightgbm.predict(tes)"
   ]
  },
  {
   "cell_type": "code",
   "execution_count": 29,
   "metadata": {},
   "outputs": [],
   "source": [
    "sub[tar] = preds\n",
    "sub.to_csv('lgbm_sub.csv', index=False)"
   ]
  },
  {
   "cell_type": "code",
   "execution_count": 30,
   "metadata": {},
   "outputs": [],
   "source": [
    "from sklearn.linear_model import ElasticNet, Lasso, Ridge\n",
    "from mlxtend.regressor import StackingCVRegressor\n",
    "from xgboost import XGBRegressor\n",
    "from sklearn.svm import SVR\n",
    "from sklearn.ensemble import RandomForestRegressor"
   ]
  },
  {
   "cell_type": "code",
   "execution_count": 38,
   "metadata": {},
   "outputs": [],
   "source": [
    "seed = 2019\n",
    "rf = RandomForestRegressor(n_estimators=100, random_state=seed)\n",
    "lasso = Lasso()\n",
    "stack = StackingCVRegressor(regressors=(lasso, rf, lightgbm), meta_regressor=lasso, use_features_in_secondary=True,\n",
    "                           random_state=True)"
   ]
  },
  {
   "cell_type": "code",
   "execution_count": 39,
   "metadata": {},
   "outputs": [
    {
     "name": "stdout",
     "output_type": "stream",
     "text": [
      "[Lasso] MSE scores : 58.15 +/- 2.78\n",
      "[RandomForest] MSE scores : 29.03 +/- 2.42\n",
      "[Lightgbm] MSE scores : 46.16 +/- 2.83\n",
      "[Stacking] MSE scores : 27.85 +/- 2.58\n"
     ]
    }
   ],
   "source": [
    "for clf, label in zip([lasso, rf, lightgbm, stack], ['Lasso', 'RandomForest', 'Lightgbm', 'Stacking']):\n",
    "    scores = cv_rmse(clf)\n",
    "    print(f\"[{label}] MSE scores : {scores.mean():.2f} +/- {scores.std():.2f}\")"
   ]
  },
  {
   "cell_type": "code",
   "execution_count": 41,
   "metadata": {},
   "outputs": [
    {
     "data": {
      "text/plain": [
       "StackingCVRegressor(cv=5,\n",
       "          meta_regressor=Lasso(alpha=1.0, copy_X=True, fit_intercept=True, max_iter=1000,\n",
       "   normalize=False, positive=False, precompute=False, random_state=None,\n",
       "   selection='cyclic', tol=0.0001, warm_start=False),\n",
       "          n_jobs=None, pre_dispatch='2*n_jobs', random_state=True,\n",
       "          refit=True,\n",
       "          regressors=(Lasso(alpha=1.0, copy_X=True, fit_intercept=True, max_iter=1000,\n",
       "   normalize=False, positive=False, precompute=False, random_state=None,\n",
       "   selection='cyclic', tol=0.0001, warm_start=False), RandomForestRegressor(bootstrap=True, criterion='mse', max_depth=None,\n",
       "           max_features='...bda=0.0, silent=True, subsample=1.0,\n",
       "       subsample_for_bin=200000, subsample_freq=0, verbose=-1)),\n",
       "          shuffle=True, store_train_meta_features=False,\n",
       "          use_features_in_secondary=True, verbose=0)"
      ]
     },
     "execution_count": 41,
     "metadata": {},
     "output_type": "execute_result"
    }
   ],
   "source": [
    "stack.fit(X, y)"
   ]
  },
  {
   "cell_type": "code",
   "execution_count": 42,
   "metadata": {},
   "outputs": [],
   "source": [
    "preds = stack.predict(tes)\n",
    "sub[tar] = preds\n",
    "sub.to_csv('stacking_sub.csv', index=False)"
   ]
  },
  {
   "cell_type": "code",
   "execution_count": 43,
   "metadata": {},
   "outputs": [
    {
     "data": {
      "text/plain": [
       "<matplotlib.axes._subplots.AxesSubplot at 0x207f1600da0>"
      ]
     },
     "execution_count": 43,
     "metadata": {},
     "output_type": "execute_result"
    },
    {
     "data": {
      "image/png": "[encoded data removed]",
      "text/plain": [
       "<Figure size 432x288 with 1 Axes>"
      ]
     },
     "metadata": {
      "needs_background": "light"
     },
     "output_type": "display_data"
    }
   ],
   "source": [
    "sns.distplot(sub[tar])"
   ]
  },
  {
   "cell_type": "code",
   "execution_count": 44,
   "metadata": {},
   "outputs": [],
   "source": [
    "def show_cv(clf):\n",
    "    scores = cv_rmse(clf)\n",
    "    print(f\"[{label}] MSE scores : {scores.mean():.2f} +/- {scores.std():.2f}\")"
   ]
  },
  {
   "cell_type": "code",
   "execution_count": 45,
   "metadata": {},
   "outputs": [
    {
     "name": "stdout",
     "output_type": "stream",
     "text": [
      "[Stacking] MSE scores : 29.03 +/- 2.42\n"
     ]
    }
   ],
   "source": [
    "show_cv(rf)"
   ]
  },
  {
   "cell_type": "code",
   "execution_count": 46,
   "metadata": {},
   "outputs": [
    {
     "name": "stdout",
     "output_type": "stream",
     "text": [
      "[Stacking] MSE scores : 28.85 +/- 2.39\n"
     ]
    }
   ],
   "source": [
    "show_cv(RandomForestRegressor(n_estimators=150, random_state=seed))\n"
   ]
  },
  {
   "cell_type": "code",
   "execution_count": 47,
   "metadata": {},
   "outputs": [
    {
     "name": "stdout",
     "output_type": "stream",
     "text": [
      "[Stacking] MSE scores : 28.78 +/- 2.40\n"
     ]
    }
   ],
   "source": [
    "show_cv(RandomForestRegressor(n_estimators=200, random_state=seed))"
   ]
  },
  {
   "cell_type": "code",
   "execution_count": 50,
   "metadata": {},
   "outputs": [],
   "source": [
    "cv = KFold(n_splits=5, random_state=seed, shuffle=True)"
   ]
  },
  {
   "cell_type": "code",
   "execution_count": 51,
   "metadata": {},
   "outputs": [],
   "source": [
    "from sklearn.metrics import mean_squared_error"
   ]
  },
  {
   "cell_type": "code",
   "execution_count": 57,
   "metadata": {},
   "outputs": [
    {
     "ename": "AttributeError",
     "evalue": "'list' object has no attribute 'mean'",
     "output_type": "error",
     "traceback": [
      "\u001b[1;31m---------------------------------------------------------------------------\u001b[0m",
      "\u001b[1;31mAttributeError\u001b[0m                            Traceback (most recent call last)",
      "\u001b[1;32m<ipython-input-57-e16f4af0b7b6>\u001b[0m in \u001b[0;36m<module>\u001b[1;34m\u001b[0m\n\u001b[0;32m      8\u001b[0m     \u001b[0mscores\u001b[0m\u001b[1;33m.\u001b[0m\u001b[0mappend\u001b[0m\u001b[1;33m(\u001b[0m\u001b[0mscore\u001b[0m\u001b[1;33m)\u001b[0m\u001b[1;33m\u001b[0m\u001b[1;33m\u001b[0m\u001b[0m\n\u001b[0;32m      9\u001b[0m     \u001b[0moof\u001b[0m\u001b[1;33m[\u001b[0m\u001b[1;33m:\u001b[0m\u001b[1;33m,\u001b[0m \u001b[0mi\u001b[0m\u001b[1;33m]\u001b[0m \u001b[1;33m=\u001b[0m \u001b[0mrf\u001b[0m\u001b[1;33m.\u001b[0m\u001b[0mpredict\u001b[0m\u001b[1;33m(\u001b[0m\u001b[0mtes\u001b[0m\u001b[1;33m)\u001b[0m\u001b[1;33m\u001b[0m\u001b[1;33m\u001b[0m\u001b[0m\n\u001b[1;32m---> 10\u001b[1;33m \u001b[0mprint\u001b[0m\u001b[1;33m(\u001b[0m\u001b[0mscores\u001b[0m\u001b[1;33m.\u001b[0m\u001b[0mmean\u001b[0m\u001b[1;33m(\u001b[0m\u001b[1;33m)\u001b[0m\u001b[1;33m)\u001b[0m\u001b[1;33m\u001b[0m\u001b[1;33m\u001b[0m\u001b[0m\n\u001b[0m",
      "\u001b[1;31mAttributeError\u001b[0m: 'list' object has no attribute 'mean'"
     ]
    }
   ],
   "source": [
    "rf = RandomForestRegressor(n_estimators=100, random_state=seed)\n",
    "oof = np.zeros((tes.shape[0], 5))\n",
    "scores = []\n",
    "for i, (trn_idx, tes_idx) in enumerate(cv.split(X)):\n",
    "    xtrn, xtes, ytrn, ytes = X.iloc[trn_idx], X.iloc[tes_idx], y[trn_idx], y[tes_idx]\n",
    "    rf.fit(xtrn, ytrn)\n",
    "    score = mean_squared_error(rf.predict(xtes), ytes)\n",
    "    scores.append(score)\n",
    "    oof[:, i] = rf.predict(tes)\n"
   ]
  },
  {
   "cell_type": "code",
   "execution_count": null,
   "metadata": {},
   "outputs": [],
   "source": []
  }
 ],
 "metadata": {
  "kernelspec": {
   "display_name": "py36 keras",
   "language": "python",
   "name": "py36"
  },
  "language_info": {
   "codemirror_mode": {
    "name": "ipython",
    "version": 3
   },
   "file_extension": ".py",
   "mimetype": "text/x-python",
   "name": "python",
   "nbconvert_exporter": "python",
   "pygments_lexer": "ipython3",
   "version": "3.6.8"
  }
 },
 "nbformat": 4,
 "nbformat_minor": 2
}
